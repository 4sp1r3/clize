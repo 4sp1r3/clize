{
 "cells": [
  {
   "cell_type": "markdown",
   "metadata": {
    "slideshow": {
     "slide_type": "slide"
    }
   },
   "source": [
    "# Clize\n",
    "## A Python approach to argument parsing\n",
    "Yann Kaiser - [@YannKsr](https://twitter.com/YannKsr)"
   ]
  },
  {
   "cell_type": "markdown",
   "metadata": {
    "slideshow": {
     "slide_type": "slide"
    }
   },
   "source": [
    "## A little bit about me\n",
    "\n",
    "* Full-time student from France\n",
    "\n",
    "* Started doing Python code in 2011\n",
    "\n",
    "* Python 3 and metaprogramming maniac!"
   ]
  },
  {
   "cell_type": "markdown",
   "metadata": {
    "slideshow": {
     "slide_type": "notes"
    }
   },
   "source": [
    "2011: fixing Python shell script replacements when arch switch to py3"
   ]
  },
  {
   "cell_type": "markdown",
   "metadata": {
    "slideshow": {
     "slide_type": "slide"
    }
   },
   "source": [
    "## What is a command-line interface?"
   ]
  },
  {
   "cell_type": "markdown",
   "metadata": {
    "slideshow": {
     "slide_type": "fragment"
    }
   },
   "source": [
    "    $ git commit -v ./path/to/afile\n",
    "* It lets you do things\n",
    "* It takes arguments that change how things are done"
   ]
  },
  {
   "cell_type": "markdown",
   "metadata": {
    "slideshow": {
     "slide_type": "slide"
    }
   },
   "source": [
    "## Hello world!"
   ]
  },
  {
   "cell_type": "markdown",
   "metadata": {
    "slideshow": {
     "slide_type": "notes"
    }
   },
   "source": [
    "fragment : output  \n",
    "before next : dave fancies not being Capitalized"
   ]
  },
  {
   "cell_type": "code",
   "execution_count": 16,
   "metadata": {
    "collapsed": true,
    "slideshow": {
     "slide_type": "-"
    }
   },
   "outputs": [],
   "source": [
    "def greet(name=None):\n",
    "    \"\"\"Returns a greeting for a given person or the whole world.\"\"\"\n",
    "    if name is None:\n",
    "        return \"Hello world!\"\n",
    "    else:\n",
    "        return \"Hello {0}!\".format(name.title())"
   ]
  },
  {
   "cell_type": "markdown",
   "metadata": {},
   "source": []
  },
  {
   "cell_type": "code",
   "execution_count": 17,
   "metadata": {
    "collapsed": false,
    "slideshow": {
     "slide_type": "fragment"
    }
   },
   "outputs": [
    {
     "data": {
      "text/plain": [
       "'Hello world!'"
      ]
     },
     "execution_count": 17,
     "metadata": {},
     "output_type": "execute_result"
    }
   ],
   "source": [
    "greet()"
   ]
  },
  {
   "cell_type": "code",
   "execution_count": 18,
   "metadata": {
    "collapsed": false,
    "slideshow": {
     "slide_type": "-"
    }
   },
   "outputs": [
    {
     "data": {
      "text/plain": [
       "'Hello John!'"
      ]
     },
     "execution_count": 18,
     "metadata": {},
     "output_type": "execute_result"
    }
   ],
   "source": [
    "greet(\"john\")"
   ]
  },
  {
   "cell_type": "code",
   "execution_count": 19,
   "metadata": {
    "collapsed": true,
    "slideshow": {
     "slide_type": "subslide"
    }
   },
   "outputs": [],
   "source": [
    "def greet(name=None, *, no_capitalize=False):\n",
    "    \"\"\"Returns a greeting for a given person or the whole world.\"\"\"\n",
    "    if name is None:\n",
    "        return \"Hello world!\"\n",
    "    else:\n",
    "        if not no_capitalize:\n",
    "            name = name.title()\n",
    "        return \"Hello {}!\".format(name)"
   ]
  },
  {
   "cell_type": "markdown",
   "metadata": {},
   "source": []
  },
  {
   "cell_type": "code",
   "execution_count": 20,
   "metadata": {
    "collapsed": false,
    "slideshow": {
     "slide_type": "-"
    }
   },
   "outputs": [
    {
     "data": {
      "text/plain": [
       "'Hello dave!'"
      ]
     },
     "execution_count": 20,
     "metadata": {},
     "output_type": "execute_result"
    }
   ],
   "source": [
    "greet(\"dave\", no_capitalize=True)"
   ]
  },
  {
   "cell_type": "markdown",
   "metadata": {
    "slideshow": {
     "slide_type": "notes"
    }
   },
   "source": [
    "next: Python 2"
   ]
  },
  {
   "cell_type": "code",
   "execution_count": 21,
   "metadata": {
    "collapsed": true,
    "slideshow": {
     "slide_type": "subslide"
    }
   },
   "outputs": [],
   "source": [
    "from sigtools import modifiers\n",
    "\n",
    "@modifiers.kwoargs('no_capitalize')\n",
    "def greet(name=None, no_capitalize=False):\n",
    "    \"\"\"Returns a greeting for a given person or the whole world.\"\"\"\n",
    "    if name is None:\n",
    "        return \"Hello world!\"\n",
    "    else:\n",
    "        if not no_capitalize:\n",
    "            name = name.title()\n",
    "        return \"Hello {}!\".format(name)"
   ]
  },
  {
   "cell_type": "markdown",
   "metadata": {
    "slideshow": {
     "slide_type": "notes"
    }
   },
   "source": [
    "but further examples Py3\n",
    "\n",
    "next: argparse answer"
   ]
  },
  {
   "cell_type": "markdown",
   "metadata": {},
   "source": []
  },
  {
   "cell_type": "code",
   "execution_count": 22,
   "metadata": {
    "collapsed": false,
    "slideshow": {
     "slide_type": "-"
    }
   },
   "outputs": [
    {
     "data": {
      "text/plain": [
       "'Hello dave!'"
      ]
     },
     "execution_count": 22,
     "metadata": {},
     "output_type": "execute_result"
    }
   ],
   "source": [
    "greet(\"dave\", no_capitalize=True)"
   ]
  },
  {
   "cell_type": "markdown",
   "metadata": {
    "slideshow": {
     "slide_type": "slide"
    }
   },
   "source": [
    "## This is how you write a command-line interface for it\n",
    "(according to the docs)"
   ]
  },
  {
   "cell_type": "code",
   "execution_count": 23,
   "metadata": {
    "classes": "nooutput",
    "collapsed": false
   },
   "outputs": [
    {
     "name": "stderr",
     "output_type": "stream",
     "text": [
      "usage: greeter [-h] [--no-capitalize] [name]\n",
      "greeter: error: unrecognized arguments: -f --profile-dir /home/epsy/.ipython/profile_default\n"
     ]
    },
    {
     "ename": "SystemExit",
     "evalue": "2",
     "output_type": "error",
     "traceback": [
      "An exception has occurred, use %tb to see the full traceback.\n",
      "\u001b[1;31mSystemExit\u001b[0m\u001b[1;31m:\u001b[0m 2\n"
     ]
    },
    {
     "name": "stderr",
     "output_type": "stream",
     "text": [
      "To exit: use 'exit', 'quit', or Ctrl-D.\n"
     ]
    }
   ],
   "source": [
    "import argparse\n",
    "\n",
    "def greetcli(args=None):\n",
    "    parser = argparse.ArgumentParser(prog='greeter')\n",
    "    parser.add_argument(\"name\", nargs='?')\n",
    "    parser.add_argument(\"--no-capitalize\", action=\"store_const\", const=True)\n",
    "\n",
    "    args = parser.parse_args(args=args)\n",
    "\n",
    "    print(greet(args.name, no_capitalize=args.no_capitalize))\n",
    "\n",
    "greetcli()"
   ]
  },
  {
   "cell_type": "markdown",
   "metadata": {
    "slideshow": {
     "slide_type": "fragment"
    }
   },
   "source": [
    "    $ python greet.py john "
   ]
  },
  {
   "cell_type": "code",
   "execution_count": 24,
   "metadata": {
    "classes": "noinput",
    "collapsed": false,
    "slideshow": {
     "slide_type": "-"
    }
   },
   "outputs": [
    {
     "name": "stdout",
     "output_type": "stream",
     "text": [
      "Hello John!\n"
     ]
    }
   ],
   "source": [
    "greetcli(['john'])"
   ]
  },
  {
   "cell_type": "markdown",
   "metadata": {},
   "source": [
    "    $ python greet.py dave --no-capitalize"
   ]
  },
  {
   "cell_type": "code",
   "execution_count": 25,
   "metadata": {
    "classes": "noinput",
    "collapsed": false
   },
   "outputs": [
    {
     "name": "stdout",
     "output_type": "stream",
     "text": [
      "Hello dave!\n"
     ]
    }
   ],
   "source": [
    "greetcli(['dave', '--no-capitalize'])"
   ]
  },
  {
   "cell_type": "markdown",
   "metadata": {
    "slideshow": {
     "slide_type": "notes"
    }
   },
   "source": [
    "What did ``greetcli`` do?"
   ]
  },
  {
   "cell_type": "markdown",
   "metadata": {
    "slideshow": {
     "slide_type": "subslide"
    }
   },
   "source": [
    "### What did ``greetcli`` do?"
   ]
  },
  {
   "cell_type": "markdown",
   "metadata": {
    "slideshow": {
     "slide_type": "-"
    }
   },
   "source": [
    "Positional argument ➡ Positional argument\n",
    "\n",
    "Named argument ➡ Named argument\n",
    "\n",
    "This is redundant!"
   ]
  },
  {
   "cell_type": "markdown",
   "metadata": {
    "slideshow": {
     "slide_type": "slide"
    }
   },
   "source": [
    "## There has to be a better way!"
   ]
  },
  {
   "cell_type": "markdown",
   "metadata": {
    "slideshow": {
     "slide_type": "-"
    }
   },
   "source": [
    "* The information is right there on ``greet``!\n",
    "\n",
    "* Python lets us get that information (``inspect.signature``)"
   ]
  },
  {
   "cell_type": "markdown",
   "metadata": {
    "slideshow": {
     "slide_type": "slide"
    }
   },
   "source": [
    "## Meet Clize"
   ]
  },
  {
   "cell_type": "code",
   "execution_count": 26,
   "metadata": {
    "classes": "nooutput",
    "collapsed": false
   },
   "outputs": [
    {
     "name": "stderr",
     "output_type": "stream",
     "text": [
      "/home/epsy/.local/lib/python3.4/site-packages/IPython/kernel/__main__.py: Unknown option '-f'\n",
      "Usage: /home/epsy/.local/lib/python3.4/site-packages/IPython/kernel/__main__.py [OPTIONS] [name]\n"
     ]
    },
    {
     "ename": "SystemExit",
     "evalue": "2",
     "output_type": "error",
     "traceback": [
      "An exception has occurred, use %tb to see the full traceback.\n",
      "\u001b[1;31mSystemExit\u001b[0m\u001b[1;31m:\u001b[0m 2\n"
     ]
    },
    {
     "name": "stderr",
     "output_type": "stream",
     "text": [
      "To exit: use 'exit', 'quit', or Ctrl-D.\n"
     ]
    }
   ],
   "source": [
    "from clize import run\n",
    "\n",
    "run(greet)"
   ]
  },
  {
   "cell_type": "code",
   "execution_count": 27,
   "metadata": {
    "collapsed": true,
    "slideshow": {
     "slide_type": "skip"
    }
   },
   "outputs": [],
   "source": [
    "from clize import run as orig_run\n",
    "\n",
    "def rrun(*args, **kwargs):\n",
    "    orig_run(*args, exit=False, **kwargs)\n",
    "\n",
    "def run(*args, **kwargs): pass"
   ]
  },
  {
   "cell_type": "markdown",
   "metadata": {
    "slideshow": {
     "slide_type": "fragment"
    }
   },
   "source": [
    "    $ python greeter.py"
   ]
  },
  {
   "cell_type": "code",
   "execution_count": 28,
   "metadata": {
    "classes": "noinput",
    "collapsed": false,
    "slideshow": {
     "slide_type": "-"
    }
   },
   "outputs": [
    {
     "name": "stdout",
     "output_type": "stream",
     "text": [
      "Hello world!\n"
     ]
    }
   ],
   "source": [
    "rrun(greet, args=['greeter.py'])"
   ]
  },
  {
   "cell_type": "markdown",
   "metadata": {
    "slideshow": {
     "slide_type": "fragment"
    }
   },
   "source": [
    "    $ python greeter.py john"
   ]
  },
  {
   "cell_type": "code",
   "execution_count": 29,
   "metadata": {
    "classes": "noinput",
    "collapsed": false
   },
   "outputs": [
    {
     "name": "stdout",
     "output_type": "stream",
     "text": [
      "Hello John!\n"
     ]
    }
   ],
   "source": [
    "rrun(greet, args=['greeter.py', 'john'])"
   ]
  },
  {
   "cell_type": "markdown",
   "metadata": {
    "slideshow": {
     "slide_type": "fragment"
    }
   },
   "source": [
    "    $ python greeter.py dave --no-capitalize"
   ]
  },
  {
   "cell_type": "code",
   "execution_count": 30,
   "metadata": {
    "classes": "noinput",
    "collapsed": false
   },
   "outputs": [
    {
     "name": "stdout",
     "output_type": "stream",
     "text": [
      "Hello dave!\n"
     ]
    }
   ],
   "source": [
    "rrun(greet, args=['greeter.py', 'dave', '--no-capitalize'])"
   ]
  },
  {
   "cell_type": "markdown",
   "metadata": {
    "slideshow": {
     "slide_type": "subslide"
    }
   },
   "source": [
    "    $ python greeter.py --help"
   ]
  },
  {
   "cell_type": "code",
   "execution_count": 31,
   "metadata": {
    "classes": "noinput",
    "collapsed": false,
    "slideshow": {
     "slide_type": "-"
    }
   },
   "outputs": [
    {
     "name": "stdout",
     "output_type": "stream",
     "text": [
      "Usage: greeter.py [OPTIONS] [name]\n",
      "\n",
      "Returns a greeting for a given person or the whole world.\n",
      "\n",
      "Arguments:\n",
      "  name\n",
      "\n",
      "Options:\n",
      "  --no-capitalize\n",
      "\n",
      "Other actions:\n",
      "  -h, --help        Show the help\n"
     ]
    }
   ],
   "source": [
    "rrun(greet, args=['greeter.py', '--help'])"
   ]
  },
  {
   "cell_type": "code",
   "execution_count": 32,
   "metadata": {
    "collapsed": false,
    "scrolled": true,
    "slideshow": {
     "slide_type": "subslide"
    }
   },
   "outputs": [],
   "source": [
    "def greet(name=None, *, no_capitalize=False):\n",
    "    \"\"\"Returns a greeting for a given person or the whole world.\n",
    "    \n",
    "    name: The name of the person to greet\n",
    "    \n",
    "    no_capitalize: Don't capitalize the given name\n",
    "    \"\"\"\n",
    "    if name is None:\n",
    "        return \"Hello world!\"\n",
    "    else:\n",
    "        if not no_capitalize:\n",
    "            name = name.title()\n",
    "        return \"Hello {}!\".format(name)"
   ]
  },
  {
   "cell_type": "markdown",
   "metadata": {},
   "source": [
    "    $ python greet.py --help"
   ]
  },
  {
   "cell_type": "code",
   "execution_count": 33,
   "metadata": {
    "classes": "noinput",
    "collapsed": false
   },
   "outputs": [
    {
     "name": "stdout",
     "output_type": "stream",
     "text": [
      "Usage: greet.py [OPTIONS] [name]\n",
      "\n",
      "Returns a greeting for a given person or the whole world.\n",
      "\n",
      "Arguments:\n",
      "  name              The name of the person to greet\n",
      "\n",
      "Options:\n",
      "  --no-capitalize   Don't capitalize the given name\n",
      "\n",
      "Other actions:\n",
      "  -h, --help        Show the help\n"
     ]
    }
   ],
   "source": [
    "rrun(greet, args=['greet.py', '--help'])"
   ]
  },
  {
   "cell_type": "markdown",
   "metadata": {
    "slideshow": {
     "slide_type": "slide"
    }
   },
   "source": [
    "## More simple things"
   ]
  },
  {
   "cell_type": "markdown",
   "metadata": {},
   "source": [
    "### Want an int? ➞ Let the default be an int!"
   ]
  },
  {
   "cell_type": "code",
   "execution_count": 34,
   "metadata": {
    "collapsed": true
   },
   "outputs": [],
   "source": [
    "def greet(name, *, repeat=1):\n",
    "    \"\"\"Returns a greeting for a given person.\n",
    "    \n",
    "    name: The name of the person to greet\n",
    "    \n",
    "    repeat: Greet the person this many times\n",
    "    \"\"\"\n",
    "    message = \"Hello {}!\".format(name.title())\n",
    "    return '\\n'.join(message for _ in range(repeat))"
   ]
  },
  {
   "cell_type": "markdown",
   "metadata": {
    "slideshow": {
     "slide_type": "-"
    }
   },
   "source": [
    "    $ python greet.py john --repeat 3"
   ]
  },
  {
   "cell_type": "code",
   "execution_count": 35,
   "metadata": {
    "classes": "noinput",
    "collapsed": false
   },
   "outputs": [
    {
     "name": "stdout",
     "output_type": "stream",
     "text": [
      "Hello John!\n",
      "Hello John!\n",
      "Hello John!\n"
     ]
    }
   ],
   "source": [
    "rrun(greet, args=['greet.py', 'john', '--repeat', '3'])"
   ]
  },
  {
   "cell_type": "markdown",
   "metadata": {
    "slideshow": {
     "slide_type": "subslide"
    }
   },
   "source": [
    "### Collect all positional ➞ Use ``*args``"
   ]
  },
  {
   "cell_type": "code",
   "execution_count": 36,
   "metadata": {
    "collapsed": true
   },
   "outputs": [],
   "source": [
    "def greet(*name):\n",
    "    \"\"\"Returns a greeting for a given person.\n",
    "    \n",
    "    name: The name of the person to greet\n",
    "    \n",
    "    repeat: Greet the person this many times\n",
    "    \"\"\"\n",
    "    return \"Hello {}!\".format(' '.join(name).title())"
   ]
  },
  {
   "cell_type": "markdown",
   "metadata": {
    "slideshow": {
     "slide_type": "-"
    }
   },
   "source": [
    "    $ python greet.py john doe"
   ]
  },
  {
   "cell_type": "code",
   "execution_count": 37,
   "metadata": {
    "classes": "noinput",
    "collapsed": false
   },
   "outputs": [
    {
     "name": "stdout",
     "output_type": "stream",
     "text": [
      "Hello John Doe!\n"
     ]
    }
   ],
   "source": [
    "rrun(greet, args=['greet.py', 'john', 'doe'])"
   ]
  },
  {
   "cell_type": "markdown",
   "metadata": {
    "slideshow": {
     "slide_type": "subslide"
    }
   },
   "source": [
    "### Want an alias for your option? ➞ Use an annotation"
   ]
  },
  {
   "cell_type": "code",
   "execution_count": 38,
   "metadata": {
    "collapsed": true
   },
   "outputs": [],
   "source": [
    "def greet(name=None, *, no_capitalize:'C'=False):\n",
    "    \"\"\"Returns a greeting for a given person or the whole world.\n",
    "    \n",
    "    name: The name of the person to greet\n",
    "    \n",
    "    no_capitalize: Don't capitalize the given name\n",
    "    \"\"\"\n",
    "    if name is None:\n",
    "        return \"Hello world!\"\n",
    "    else:\n",
    "        if not no_capitalize:\n",
    "            name = name.title()\n",
    "        return \"Hello {}!\".format(name)"
   ]
  },
  {
   "cell_type": "markdown",
   "metadata": {},
   "source": [
    "    $ python greet.py dave -C"
   ]
  },
  {
   "cell_type": "code",
   "execution_count": 39,
   "metadata": {
    "classes": "noinput",
    "collapsed": false
   },
   "outputs": [
    {
     "name": "stdout",
     "output_type": "stream",
     "text": [
      "Hello dave!\n"
     ]
    }
   ],
   "source": [
    "rrun(greet, args=['greet.py', 'dave', '-C'])"
   ]
  },
  {
   "cell_type": "markdown",
   "metadata": {
    "slideshow": {
     "slide_type": "fragment"
    }
   },
   "source": [
    "Use ``sigtools.modifiers.annotate`` on Python 2"
   ]
  },
  {
   "cell_type": "markdown",
   "metadata": {
    "slideshow": {
     "slide_type": "notes"
    }
   },
   "source": [
    "Also, many other uses of annotations."
   ]
  },
  {
   "cell_type": "markdown",
   "metadata": {
    "slideshow": {
     "slide_type": "slide"
    }
   },
   "source": [
    "## Run multiple functions"
   ]
  },
  {
   "cell_type": "code",
   "execution_count": 40,
   "metadata": {
    "collapsed": true,
    "slideshow": {
     "slide_type": "skip"
    }
   },
   "outputs": [],
   "source": [
    "def part(name):\n",
    "    \"\"\"Wishes someone goodbye.\n",
    "    \n",
    "    name: The person to address\"\"\"\n",
    "    return \"Goodbye {}\".format(name)"
   ]
  },
  {
   "cell_type": "code",
   "execution_count": 41,
   "metadata": {
    "collapsed": false
   },
   "outputs": [],
   "source": [
    "run(greet, part)"
   ]
  },
  {
   "cell_type": "markdown",
   "metadata": {},
   "source": [
    "    $ python greet.py --help"
   ]
  },
  {
   "cell_type": "code",
   "execution_count": 42,
   "metadata": {
    "classes": "noinput",
    "collapsed": false
   },
   "outputs": [
    {
     "name": "stdout",
     "output_type": "stream",
     "text": [
      "Usage: greet.py command [args...]\n",
      "\n",
      "Commands:\n",
      "  greet   Returns a greeting for a given person or the whole world.\n",
      "  part    Wishes someone goodbye.\n"
     ]
    }
   ],
   "source": [
    "rrun(greet, part, args=['greet.py', '--help'])"
   ]
  },
  {
   "cell_type": "markdown",
   "metadata": {
    "slideshow": {
     "slide_type": "notes"
    }
   },
   "source": [
    "Can use iterable, dict, OrderedDict, etc\n",
    "\n",
    "Share features?"
   ]
  },
  {
   "cell_type": "markdown",
   "metadata": {
    "slideshow": {
     "slide_type": "slide"
    }
   },
   "source": [
    "## Share features between commands\n",
    "### What would argparse do?"
   ]
  },
  {
   "cell_type": "markdown",
   "metadata": {
    "slideshow": {
     "slide_type": "-"
    }
   },
   "source": [
    "Subparsers!"
   ]
  },
  {
   "cell_type": "markdown",
   "metadata": {
    "slideshow": {
     "slide_type": "fragment"
    }
   },
   "source": [
    "Mixes subcommands and feature sharing together"
   ]
  },
  {
   "cell_type": "markdown",
   "metadata": {
    "slideshow": {
     "slide_type": "subslide"
    }
   },
   "source": [
    "### What would Python do?"
   ]
  },
  {
   "cell_type": "markdown",
   "metadata": {},
   "source": [
    "Decorators!"
   ]
  },
  {
   "cell_type": "markdown",
   "metadata": {
    "slideshow": {
     "slide_type": "fragment"
    }
   },
   "source": [
    "Can be applied to any function arbitrarily"
   ]
  },
  {
   "cell_type": "markdown",
   "metadata": {
    "slideshow": {
     "slide_type": "subslide"
    }
   },
   "source": [
    "## What would Clize do?"
   ]
  },
  {
   "cell_type": "code",
   "execution_count": 43,
   "metadata": {
    "collapsed": true
   },
   "outputs": [],
   "source": [
    "from sigtools.wrappers import wrapper_decorator\n",
    "\n",
    "@wrapper_decorator(0, 'name')\n",
    "def with_name(wrapped, name=None, *args, no_capitalize:'C'=False, **kwargs):\n",
    "    \"\"\"\n",
    "    name: The name of the person to address\n",
    "    \n",
    "    no_capitalize: Don't capitalize the given name\n",
    "    \"\"\"\n",
    "    if name is None:\n",
    "        name = 'world'\n",
    "    elif not no_capitalize:\n",
    "        name = name.title()\n",
    "    return wrapped(*args, name=name, **kwargs)"
   ]
  },
  {
   "cell_type": "markdown",
   "metadata": {},
   "source": [
    "* ``with_name`` becomes a decorator\n",
    "* ``wrapper_decorator`` makes it so that Clize can know ``*args`` and ``**kwargs`` refer to the decorated function"
   ]
  },
  {
   "cell_type": "code",
   "execution_count": 44,
   "metadata": {
    "collapsed": false,
    "slideshow": {
     "slide_type": "subslide"
    }
   },
   "outputs": [],
   "source": [
    "@with_name\n",
    "def greet(*, name, repeat:'r'=1):\n",
    "    \"\"\"Greets a person or the world.\n",
    "    \n",
    "    repeat: How many times should the person be greeted\"\"\"\n",
    "    message = 'Hello {}!'.format(name)\n",
    "    return '\\n'.join(message for _ in range(repeat))\n",
    "\n",
    "@with_name\n",
    "def part(*, name):\n",
    "    \"\"\"Parts with a person or the world.\"\"\"\n",
    "    return 'Goodbye {}.'.format(name)"
   ]
  },
  {
   "cell_type": "markdown",
   "metadata": {
    "slideshow": {
     "slide_type": "-"
    }
   },
   "source": [
    "    $ python greet.py greet -C -r 3 dave"
   ]
  },
  {
   "cell_type": "code",
   "execution_count": 45,
   "metadata": {
    "classes": "noinput",
    "collapsed": false
   },
   "outputs": [
    {
     "name": "stdout",
     "output_type": "stream",
     "text": [
      "Hello dave!\n",
      "Hello dave!\n",
      "Hello dave!\n"
     ]
    }
   ],
   "source": [
    "rrun(greet, part, args=['greet.py', 'greet', '-C', '-r', '3', 'dave'])"
   ]
  },
  {
   "cell_type": "markdown",
   "metadata": {
    "slideshow": {
     "slide_type": "subslide"
    }
   },
   "source": [
    "    $ python greet.py --help"
   ]
  },
  {
   "cell_type": "code",
   "execution_count": 46,
   "metadata": {
    "classes": "noinput",
    "collapsed": false,
    "slideshow": {
     "slide_type": "-"
    }
   },
   "outputs": [
    {
     "name": "stdout",
     "output_type": "stream",
     "text": [
      "Usage: greet.py greet [OPTIONS] [name]\n",
      "\n",
      "Greets a person or the world.\n",
      "\n",
      "Arguments:\n",
      "  name               The name of the person to address\n",
      "\n",
      "Options:\n",
      "  -r, --repeat=INT   How many times should the person be greeted (default: 1)\n",
      "  -C, --no-capitalize\n",
      "                     Don't capitalize the given name\n",
      "\n",
      "Other actions:\n",
      "  -h, --help         Show the help\n"
     ]
    }
   ],
   "source": [
    "rrun(greet, part, args=['greet.py', 'greet', '--help'])"
   ]
  },
  {
   "cell_type": "markdown",
   "metadata": {
    "slideshow": {
     "slide_type": "fragment"
    }
   },
   "source": [
    "* Repeating the same name is weird, let's greet different people using ``*args``!\n",
    "* But what about ``--no-capitalize``?"
   ]
  },
  {
   "cell_type": "markdown",
   "metadata": {
    "slideshow": {
     "slide_type": "slide"
    }
   },
   "source": [
    "## Creating a decorator for a single argument"
   ]
  },
  {
   "cell_type": "code",
   "execution_count": 47,
   "metadata": {
    "collapsed": true
   },
   "outputs": [],
   "source": [
    "from clize import parameters\n",
    "\n",
    "@parameters.argument_decorator\n",
    "def name_argument(val, *, no_capitalize:'C'=False):\n",
    "    \"\"\"\n",
    "    For each name:\n",
    "    \n",
    "    no_capitalize: Don't capitalize this name\n",
    "    \"\"\"\n",
    "    if not no_capitalize:\n",
    "        return val.title()\n",
    "    return val"
   ]
  },
  {
   "cell_type": "markdown",
   "metadata": {},
   "source": [
    "* ``val`` will receive ``\"john\"``, ``\"dave\"`` and so forth\n",
    "* ``name_argument`` can be used as a parameter annotation"
   ]
  },
  {
   "cell_type": "code",
   "execution_count": 48,
   "metadata": {
    "collapsed": false,
    "slideshow": {
     "slide_type": "subslide"
    }
   },
   "outputs": [],
   "source": [
    "def greet(*names: name_argument):\n",
    "    if not names:\n",
    "        return 'Hello world!'\n",
    "    greetings = []\n",
    "    for name in names:\n",
    "        greetings .append('Hello {}!'.format(name))\n",
    "    return '\\n'.join(greetings)\n",
    "\n",
    "run(greet)"
   ]
  },
  {
   "cell_type": "markdown",
   "metadata": {
    "slideshow": {
     "slide_type": "-"
    }
   },
   "source": [
    "    $ python greet.py john -C dave jane"
   ]
  },
  {
   "cell_type": "code",
   "execution_count": 49,
   "metadata": {
    "classes": "noinput",
    "collapsed": false
   },
   "outputs": [
    {
     "name": "stdout",
     "output_type": "stream",
     "text": [
      "Hello John!\n",
      "Hello dave!\n",
      "Hello Jane!\n"
     ]
    }
   ],
   "source": [
    "rrun(greet, args=['greet.py', 'john', '-C', 'dave', 'jane'])"
   ]
  },
  {
   "cell_type": "markdown",
   "metadata": {
    "slideshow": {
     "slide_type": "subslide"
    }
   },
   "source": [
    "    $ python greet.py --help"
   ]
  },
  {
   "cell_type": "code",
   "execution_count": 50,
   "metadata": {
    "classes": "noinput",
    "collapsed": false
   },
   "outputs": [
    {
     "name": "stdout",
     "output_type": "stream",
     "text": [
      "Usage: greet.py [OPTIONS] [[-C] names...]\n",
      "\n",
      "Arguments:\n",
      "  names...\n",
      "\n",
      "For each name:\n",
      "  -C, --no-capitalize\n",
      "               Don't capitalize this name\n",
      "\n",
      "Other actions:\n",
      "  -h, --help   Show the help\n"
     ]
    }
   ],
   "source": [
    "rrun(greet, args=['greet.py', '--help'])"
   ]
  },
  {
   "cell_type": "markdown",
   "metadata": {
    "slideshow": {
     "slide_type": "slide"
    }
   },
   "source": [
    "## By the way... It's extensible"
   ]
  },
  {
   "cell_type": "markdown",
   "metadata": {
    "slideshow": {
     "slide_type": "fragment"
    }
   },
   "source": [
    "* Parameter behavior can be replaced or customized.\n",
    "* ``argument_decorator`` in the above example could have been done by you!"
   ]
  },
  {
   "cell_type": "markdown",
   "metadata": {
    "slideshow": {
     "slide_type": "slide"
    }
   },
   "source": [
    "# ``pip install --user clize==3.0b1``\n",
    "\n",
    "https://clize.readthedocs.org/\n",
    "\n",
    "[Clize community on Google+](https://plus.google.com/communities/101146333300650079362)\n",
    "\n",
    "### Yann Kaiser\n",
    "\n",
    "[@YannKsr](https://twitter.com/YannKsr)\n",
    "\n",
    "[kaiser.yann@gmail.com](mailto:kaiser.yann@gmail.com)"
   ]
  },
  {
   "cell_type": "markdown",
   "metadata": {
    "slideshow": {
     "slide_type": "notes"
    }
   },
   "source": [
    "FAQ page  "
   ]
  }
 ],
 "metadata": {
  "celltoolbar": "Edit Metadata",
  "kernelspec": {
   "display_name": "Python 3",
   "language": "python",
   "name": "python3"
  },
  "language_info": {
   "codemirror_mode": {
    "name": "ipython",
    "version": 3
   },
   "file_extension": ".py",
   "mimetype": "text/x-python",
   "name": "python",
   "nbconvert_exporter": "python",
   "pygments_lexer": "ipython3",
   "version": "3.4.0"
  }
 },
 "nbformat": 4,
 "nbformat_minor": 0
}

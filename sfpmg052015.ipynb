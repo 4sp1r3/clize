{
 "cells": [
  {
   "cell_type": "markdown",
   "metadata": {
    "slideshow": {
     "slide_type": "slide"
    }
   },
   "source": [
    "# Clize\n",
    "## A Python approach to command-line argument parsing\n",
    "\n",
    "**Yann Kaiser**\n",
    "\n",
    "Full-time student from France!\n",
    "\n",
    "[@YannKsr](https://twitter.com/YannKsr)"
   ]
  },
  {
   "cell_type": "markdown",
   "metadata": {
    "slideshow": {
     "slide_type": "notes"
    }
   },
   "source": [
    "* Yann Kaiser\n",
    "* How I decided to approach arg parsing"
   ]
  },
  {
   "cell_type": "markdown",
   "metadata": {
    "slideshow": {
     "slide_type": "slide"
    }
   },
   "source": [
    "## What's a CLI?\n",
    "* In the scope of this talk: The way you start programs from the shell\n",
    "* A textual command that takes arguments:  \n",
    "      command argument --option value\n",
    "      git commit -v -m \"Fixed bug #42\"\n",
    "\n",
    "We want to make one! Let's start by writing a function..."
   ]
  },
  {
   "cell_type": "markdown",
   "metadata": {
    "slideshow": {
     "slide_type": "notes"
    }
   },
   "source": [
    "* when using a terminal or ssh, the way you start prog from bash, zsh, etc\n",
    "* textual, takes arguments\n",
    "* let's make one, specify behavior in a function first"
   ]
  },
  {
   "cell_type": "markdown",
   "metadata": {
    "slideshow": {
     "slide_type": "subslide"
    }
   },
   "source": [
    "## Hello world!"
   ]
  },
  {
   "cell_type": "code",
   "execution_count": 1,
   "metadata": {
    "collapsed": true,
    "slideshow": {
     "slide_type": "-"
    }
   },
   "outputs": [],
   "source": [
    "def greet(name=None, *, no_capitalize=False):\n",
    "    \"\"\"Returns a greeting for a given person or the whole world.\"\"\"\n",
    "    if name is None:\n",
    "        return \"Hello world!\"\n",
    "    else:\n",
    "        if not no_capitalize:\n",
    "            name = name.title()\n",
    "        return \"Hello {}!\".format(name)"
   ]
  },
  {
   "cell_type": "markdown",
   "metadata": {},
   "source": []
  },
  {
   "cell_type": "code",
   "execution_count": 2,
   "metadata": {
    "collapsed": false,
    "slideshow": {
     "slide_type": "-"
    }
   },
   "outputs": [
    {
     "data": {
      "text/plain": [
       "'Hello world!'"
      ]
     },
     "execution_count": 2,
     "metadata": {},
     "output_type": "execute_result"
    }
   ],
   "source": [
    "greet()"
   ]
  },
  {
   "cell_type": "code",
   "execution_count": 3,
   "metadata": {
    "collapsed": false,
    "slideshow": {
     "slide_type": "-"
    }
   },
   "outputs": [
    {
     "data": {
      "text/plain": [
       "'Hello John!'"
      ]
     },
     "execution_count": 3,
     "metadata": {},
     "output_type": "execute_result"
    }
   ],
   "source": [
    "greet(\"john\")"
   ]
  },
  {
   "cell_type": "code",
   "execution_count": 4,
   "metadata": {
    "collapsed": false,
    "slideshow": {
     "slide_type": "-"
    }
   },
   "outputs": [
    {
     "data": {
      "text/plain": [
       "'Hello dave!'"
      ]
     },
     "execution_count": 4,
     "metadata": {},
     "output_type": "execute_result"
    }
   ],
   "source": [
    "greet(\"dave\", no_capitalize=True)"
   ]
  },
  {
   "cell_type": "markdown",
   "metadata": {
    "slideshow": {
     "slide_type": "notes"
    }
   },
   "source": [
    "* Simple function:\n",
    "  * ``Name`` positional,\n",
    "  * ``no_capitalize`` keyword\n",
    "* Also available in Python 2\n",
    "\n",
    "Next: make a CLI / argparse"
   ]
  },
  {
   "cell_type": "markdown",
   "metadata": {
    "slideshow": {
     "slide_type": "slide"
    }
   },
   "source": [
    "## This is how you write a command-line interface for it"
   ]
  },
  {
   "cell_type": "code",
   "execution_count": 5,
   "metadata": {
    "collapsed": true,
    "slideshow": {
     "slide_type": "skip"
    }
   },
   "outputs": [],
   "source": [
    "import argparse"
   ]
  },
  {
   "cell_type": "code",
   "execution_count": 6,
   "metadata": {
    "classes": "nooutput",
    "collapsed": false
   },
   "outputs": [],
   "source": [
    "def greetcli(args=None):\n",
    "    parser = argparse.ArgumentParser(prog='greeter')\n",
    "    parser.add_argument(\"name\", nargs='?')\n",
    "    parser.add_argument(\"--no-capitalize\", action=\"store_const\", const=True)\n",
    "\n",
    "    args = parser.parse_args(args=args)\n",
    "\n",
    "    print(greet(args.name, no_capitalize=args.no_capitalize))"
   ]
  },
  {
   "cell_type": "markdown",
   "metadata": {},
   "source": [
    "    $ python greet.py dave --no-capitalize"
   ]
  },
  {
   "cell_type": "code",
   "execution_count": 7,
   "metadata": {
    "classes": "noinput",
    "collapsed": false
   },
   "outputs": [
    {
     "name": "stdout",
     "output_type": "stream",
     "text": [
      "Hello dave!\n"
     ]
    }
   ],
   "source": [
    "greetcli(['dave', '--no-capitalize'])"
   ]
  },
  {
   "cell_type": "markdown",
   "metadata": {
    "slideshow": {
     "slide_type": "-"
    }
   },
   "source": [
    "### What did ``greetcli`` do?\n",
    "\n",
    "Positional argument ➡ Positional argument\n",
    "\n",
    "Named argument ➡ Named argument\n",
    "\n",
    "This is redundant!"
   ]
  },
  {
   "cell_type": "markdown",
   "metadata": {
    "slideshow": {
     "slide_type": "notes"
    }
   },
   "source": [
    "* We create a parser, add arguments, parse, then call ``greet``\n",
    "* Redundant when it's informations that's already there\n",
    "* Python makes the signature available\n",
    "* Let's use that"
   ]
  },
  {
   "cell_type": "markdown",
   "metadata": {
    "slideshow": {
     "slide_type": "slide"
    }
   },
   "source": [
    "## Meet Clize"
   ]
  },
  {
   "cell_type": "code",
   "execution_count": 8,
   "metadata": {
    "classes": "nooutput",
    "collapsed": false
   },
   "outputs": [
    {
     "name": "stderr",
     "output_type": "stream",
     "text": [
      "/home/epsy/.local/lib/python3.4/site-packages/IPython/kernel/__main__.py: Unknown option '-f'\n",
      "Usage: /home/epsy/.local/lib/python3.4/site-packages/IPython/kernel/__main__.py [OPTIONS] [name]\n"
     ]
    },
    {
     "ename": "SystemExit",
     "evalue": "2",
     "output_type": "error",
     "traceback": [
      "An exception has occurred, use %tb to see the full traceback.\n",
      "\u001b[1;31mSystemExit\u001b[0m\u001b[1;31m:\u001b[0m 2\n"
     ]
    },
    {
     "name": "stderr",
     "output_type": "stream",
     "text": [
      "To exit: use 'exit', 'quit', or Ctrl-D.\n"
     ]
    }
   ],
   "source": [
    "from clize import run\n",
    "\n",
    "run(greet)"
   ]
  },
  {
   "cell_type": "code",
   "execution_count": 9,
   "metadata": {
    "collapsed": true,
    "slideshow": {
     "slide_type": "skip"
    }
   },
   "outputs": [],
   "source": [
    "from clize import run as orig_run\n",
    "\n",
    "def rrun(*args, **kwargs):\n",
    "    orig_run(*args, exit=False, **kwargs)\n",
    "\n",
    "def run(*args, **kwargs): pass"
   ]
  },
  {
   "cell_type": "markdown",
   "metadata": {
    "slideshow": {
     "slide_type": "-"
    }
   },
   "source": [
    "    $ python greeter.py"
   ]
  },
  {
   "cell_type": "code",
   "execution_count": 10,
   "metadata": {
    "classes": "noinput",
    "collapsed": false,
    "slideshow": {
     "slide_type": "-"
    }
   },
   "outputs": [
    {
     "name": "stdout",
     "output_type": "stream",
     "text": [
      "Hello world!\n"
     ]
    }
   ],
   "source": [
    "rrun(greet, args=['greeter.py'])"
   ]
  },
  {
   "cell_type": "markdown",
   "metadata": {
    "slideshow": {
     "slide_type": "-"
    }
   },
   "source": [
    "    $ python greeter.py john"
   ]
  },
  {
   "cell_type": "code",
   "execution_count": 11,
   "metadata": {
    "classes": "noinput",
    "collapsed": false
   },
   "outputs": [
    {
     "name": "stdout",
     "output_type": "stream",
     "text": [
      "Hello John!\n"
     ]
    }
   ],
   "source": [
    "rrun(greet, args=['greeter.py', 'john'])"
   ]
  },
  {
   "cell_type": "markdown",
   "metadata": {
    "slideshow": {
     "slide_type": "-"
    }
   },
   "source": [
    "    $ python greeter.py dave --no-capitalize"
   ]
  },
  {
   "cell_type": "code",
   "execution_count": 12,
   "metadata": {
    "classes": "noinput",
    "collapsed": false
   },
   "outputs": [
    {
     "name": "stdout",
     "output_type": "stream",
     "text": [
      "Hello dave!\n"
     ]
    }
   ],
   "source": [
    "rrun(greet, args=['greeter.py', 'dave', '--no-capitalize'])"
   ]
  },
  {
   "cell_type": "markdown",
   "metadata": {
    "slideshow": {
     "slide_type": "notes"
    }
   },
   "source": [
    "* Just one function call and the translation is done"
   ]
  },
  {
   "cell_type": "code",
   "execution_count": 13,
   "metadata": {
    "collapsed": false,
    "scrolled": true,
    "slideshow": {
     "slide_type": "subslide"
    }
   },
   "outputs": [],
   "source": [
    "def greet(name=None, *, no_capitalize=False):\n",
    "    \"\"\"Returns a greeting for a given person or the whole world.\n",
    "    \n",
    "    name: The name of the person to greet\n",
    "    \n",
    "    no_capitalize: Don't capitalize the given name\n",
    "    \"\"\"\n",
    "    if name is None:\n",
    "        return \"Hello world!\"\n",
    "    else:\n",
    "        if not no_capitalize:\n",
    "            name = name.title()\n",
    "        return \"Hello {}!\".format(name)"
   ]
  },
  {
   "cell_type": "markdown",
   "metadata": {},
   "source": [
    "    $ python greet.py --help"
   ]
  },
  {
   "cell_type": "code",
   "execution_count": 14,
   "metadata": {
    "classes": "noinput",
    "collapsed": false
   },
   "outputs": [
    {
     "name": "stdout",
     "output_type": "stream",
     "text": [
      "Usage: greet.py [OPTIONS] [name]\n",
      "\n",
      "Returns a greeting for a given person or the whole world.\n",
      "\n",
      "Arguments:\n",
      "  name              The name of the person to greet\n",
      "\n",
      "Options:\n",
      "  --no-capitalize   Don't capitalize the given name\n",
      "\n",
      "Other actions:\n",
      "  -h, --help        Show the help\n"
     ]
    }
   ],
   "source": [
    "rrun(greet, args=['greet.py', '--help'])"
   ]
  },
  {
   "cell_type": "markdown",
   "metadata": {
    "slideshow": {
     "slide_type": "notes"
    }
   },
   "source": [
    "* Add param info in docstring -> nice --help\n",
    "\n",
    "Next: Couple simple things."
   ]
  },
  {
   "cell_type": "markdown",
   "metadata": {
    "slideshow": {
     "slide_type": "slide"
    }
   },
   "source": [
    "## More simple things"
   ]
  },
  {
   "cell_type": "markdown",
   "metadata": {},
   "source": [
    "### Want an int? ➞ Let the default be an int!"
   ]
  },
  {
   "cell_type": "code",
   "execution_count": 15,
   "metadata": {
    "collapsed": true
   },
   "outputs": [],
   "source": [
    "def greet(name, *, repeat=1):\n",
    "    ... # the argument to repeat is always converted to an int"
   ]
  },
  {
   "cell_type": "markdown",
   "metadata": {
    "slideshow": {
     "slide_type": "-"
    }
   },
   "source": [
    "### Collect all positional ➞ Use ``*args``"
   ]
  },
  {
   "cell_type": "code",
   "execution_count": 16,
   "metadata": {
    "collapsed": true
   },
   "outputs": [],
   "source": [
    "def greet(*names):\n",
    "    ... # name collects all positional arguments"
   ]
  },
  {
   "cell_type": "markdown",
   "metadata": {
    "slideshow": {
     "slide_type": "-"
    }
   },
   "source": [
    "### Want an alias for your option? ➞ Use an annotation"
   ]
  },
  {
   "cell_type": "code",
   "execution_count": 17,
   "metadata": {
    "collapsed": true
   },
   "outputs": [],
   "source": [
    "def greet(name=None, *, no_capitalize:'C'=False):\n",
    "    ... # You can now use \"python greet.py -C dave\""
   ]
  },
  {
   "cell_type": "markdown",
   "metadata": {
    "slideshow": {
     "slide_type": "-"
    }
   },
   "source": [
    "### Run multiple functions"
   ]
  },
  {
   "cell_type": "code",
   "execution_count": 18,
   "metadata": {
    "collapsed": true,
    "slideshow": {
     "slide_type": "skip"
    }
   },
   "outputs": [],
   "source": [
    "def part(name):\n",
    "    \"\"\"Wishes someone goodbye.\n",
    "    \n",
    "    name: The person to address\"\"\"\n",
    "    return \"Goodbye {}\".format(name)"
   ]
  },
  {
   "cell_type": "code",
   "execution_count": 19,
   "metadata": {
    "collapsed": false
   },
   "outputs": [],
   "source": [
    "run(greet, part)"
   ]
  },
  {
   "cell_type": "markdown",
   "metadata": {
    "slideshow": {
     "slide_type": "notes"
    }
   },
   "source": [
    "* converts to default argument type\n",
    "* parameters work just like in python, so ``*args`` works\n",
    "* things like (short) parameter aliases don't exit in py, so annotation\n",
    "\n",
    "Next: Because we deal with functions... neat stuff!"
   ]
  },
  {
   "cell_type": "markdown",
   "metadata": {
    "slideshow": {
     "slide_type": "slide"
    }
   },
   "source": [
    "## Compositing functions\n",
    "### Decorators"
   ]
  },
  {
   "cell_type": "code",
   "execution_count": 26,
   "metadata": {
    "collapsed": false
   },
   "outputs": [],
   "source": [
    "from sigtools.wrappers import wrapper_decorator\n",
    "\n",
    "@wrapper_decorator\n",
    "def noisy(wrapped, *args, quiet=False, **kwargs):\n",
    "    \"\"\"\n",
    "    repeat: Amount of times the message is repeated\n",
    "    \"\"\"\n",
    "    if not quiet: print(\"Running 'wrapped'\")\n",
    "    ret = wrapped(*args, **kwargs)\n",
    "    if not quiet: print(\"'wrapped' finished\")\n",
    "    return ret\n",
    "\n",
    "@noisy\n",
    "def greet(*names: name_argument):\n",
    "    ...\n",
    "\n",
    "@noisy\n",
    "def part(*names: name_argument):\n",
    "    ..."
   ]
  },
  {
   "cell_type": "markdown",
   "metadata": {
    "slideshow": {
     "slide_type": "notes"
    }
   },
   "source": [
    "* You can write decorators that work just like regular ones"
   ]
  },
  {
   "cell_type": "markdown",
   "metadata": {
    "slideshow": {
     "slide_type": "subslide"
    }
   },
   "source": [
    "### A mini-CLI for each parameter"
   ]
  },
  {
   "cell_type": "code",
   "execution_count": 30,
   "metadata": {
    "collapsed": true
   },
   "outputs": [],
   "source": [
    "from clize.parameters import argument_decorator\n",
    "\n",
    "@argument_decorator\n",
    "def name_argument(val, *, no_capitalize:'C'=False):\n",
    "    \"\"\"For each name:\n",
    "    \n",
    "    no_capitalize: Don't capitalize this name\"\"\"\n",
    "    if not no_capitalize:\n",
    "        return val.title()\n",
    "    return val\n",
    "\n",
    "def greet(*names: name_argument):\n",
    "    ..."
   ]
  },
  {
   "cell_type": "markdown",
   "metadata": {
    "slideshow": {
     "slide_type": "notes"
    }
   },
   "source": [
    "* You can add options individual to each occurence of a parameter"
   ]
  },
  {
   "cell_type": "markdown",
   "metadata": {
    "slideshow": {
     "slide_type": "slide"
    }
   },
   "source": [
    "# ``pip install --user clize``\n",
    "\n",
    "https://clize.readthedocs.org/\n",
    "\n",
    "[Clize community on Google+](https://plus.google.com/communities/101146333300650079362)\n",
    "\n",
    "http://epsy.github.io/clize/\n",
    "\n",
    "### Yann Kaiser\n",
    "\n",
    "[@YannKsr](https://twitter.com/YannKsr)\n",
    "\n",
    "[kaiser.yann@gmail.com](mailto:kaiser.yann@gmail.com)"
   ]
  },
  {
   "cell_type": "markdown",
   "metadata": {
    "slideshow": {
     "slide_type": "notes"
    }
   },
   "source": [
    "* Check RTD for tutorials\n",
    "* need help for FAQ page\n",
    "* will post slides link on meetup group"
   ]
  }
 ],
 "metadata": {
  "celltoolbar": "Slideshow",
  "kernelspec": {
   "display_name": "Python 3",
   "language": "python",
   "name": "python3"
  },
  "language_info": {
   "codemirror_mode": {
    "name": "ipython",
    "version": 3
   },
   "file_extension": ".py",
   "mimetype": "text/x-python",
   "name": "python",
   "nbconvert_exporter": "python",
   "pygments_lexer": "ipython3",
   "version": "3.4.0"
  }
 },
 "nbformat": 4,
 "nbformat_minor": 0
}

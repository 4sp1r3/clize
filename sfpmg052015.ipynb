{
 "cells": [
  {
   "cell_type": "markdown",
   "metadata": {
    "slideshow": {
     "slide_type": "slide"
    }
   },
   "source": [
    "# Clize\n",
    "## A Python approach to command-line argument parsing\n",
    "Yann Kaiser - [@YannKsr](https://twitter.com/YannKsr)"
   ]
  },
  {
   "cell_type": "markdown",
   "metadata": {
    "slideshow": {
     "slide_type": "slide"
    }
   },
   "source": [
    "## Hello world!"
   ]
  },
  {
   "cell_type": "code",
   "execution_count": 115,
   "metadata": {
    "collapsed": true,
    "slideshow": {
     "slide_type": "-"
    }
   },
   "outputs": [],
   "source": [
    "def greet(name=None, *, no_capitalize=False):\n",
    "    \"\"\"Returns a greeting for a given person or the whole world.\"\"\"\n",
    "    if name is None:\n",
    "        return \"Hello world!\"\n",
    "    else:\n",
    "        if not no_capitalize:\n",
    "            name = name.title()\n",
    "        return \"Hello {}!\".format(name)"
   ]
  },
  {
   "cell_type": "markdown",
   "metadata": {},
   "source": []
  },
  {
   "cell_type": "code",
   "execution_count": 116,
   "metadata": {
    "collapsed": false,
    "slideshow": {
     "slide_type": "-"
    }
   },
   "outputs": [
    {
     "data": {
      "text/plain": [
       "'Hello world!'"
      ]
     },
     "execution_count": 116,
     "metadata": {},
     "output_type": "execute_result"
    }
   ],
   "source": [
    "greet()"
   ]
  },
  {
   "cell_type": "code",
   "execution_count": 117,
   "metadata": {
    "collapsed": false,
    "slideshow": {
     "slide_type": "-"
    }
   },
   "outputs": [
    {
     "data": {
      "text/plain": [
       "'Hello John!'"
      ]
     },
     "execution_count": 117,
     "metadata": {},
     "output_type": "execute_result"
    }
   ],
   "source": [
    "greet(\"john\")"
   ]
  },
  {
   "cell_type": "code",
   "execution_count": 118,
   "metadata": {
    "collapsed": false,
    "slideshow": {
     "slide_type": "-"
    }
   },
   "outputs": [
    {
     "data": {
      "text/plain": [
       "'Hello dave!'"
      ]
     },
     "execution_count": 118,
     "metadata": {},
     "output_type": "execute_result"
    }
   ],
   "source": [
    "greet(\"dave\", no_capitalize=True)"
   ]
  },
  {
   "cell_type": "markdown",
   "metadata": {
    "slideshow": {
     "slide_type": "notes"
    }
   },
   "source": [
    "next: Python 2"
   ]
  },
  {
   "cell_type": "code",
   "execution_count": 119,
   "metadata": {
    "collapsed": true,
    "slideshow": {
     "slide_type": "subslide"
    }
   },
   "outputs": [],
   "source": [
    "from sigtools import modifiers\n",
    "\n",
    "@modifiers.kwoargs('no_capitalize')\n",
    "def greet(name=None, no_capitalize=False):\n",
    "    \"\"\"Returns a greeting for a given person or the whole world.\"\"\"\n",
    "    if name is None:\n",
    "        return \"Hello world!\"\n",
    "    else:\n",
    "        if not no_capitalize:\n",
    "            name = name.title()\n",
    "        return \"Hello {}!\".format(name)"
   ]
  },
  {
   "cell_type": "markdown",
   "metadata": {
    "slideshow": {
     "slide_type": "notes"
    }
   },
   "source": [
    "but further examples Py3\n",
    "\n",
    "next: argparse answer"
   ]
  },
  {
   "cell_type": "markdown",
   "metadata": {},
   "source": []
  },
  {
   "cell_type": "code",
   "execution_count": 120,
   "metadata": {
    "collapsed": false,
    "slideshow": {
     "slide_type": "-"
    }
   },
   "outputs": [
    {
     "data": {
      "text/plain": [
       "'Hello dave!'"
      ]
     },
     "execution_count": 120,
     "metadata": {},
     "output_type": "execute_result"
    }
   ],
   "source": [
    "greet(\"dave\", no_capitalize=True)"
   ]
  },
  {
   "cell_type": "markdown",
   "metadata": {
    "slideshow": {
     "slide_type": "slide"
    }
   },
   "source": [
    "## This is how you write a command-line interface for it\n",
    "(according to the docs)"
   ]
  },
  {
   "cell_type": "code",
   "execution_count": 121,
   "metadata": {
    "classes": "nooutput",
    "collapsed": false
   },
   "outputs": [
    {
     "name": "stderr",
     "output_type": "stream",
     "text": [
      "usage: greeter [-h] [--no-capitalize] [name]\n",
      "greeter: error: unrecognized arguments: -f --profile-dir /home/epsy/.ipython/profile_default\n"
     ]
    },
    {
     "ename": "SystemExit",
     "evalue": "2",
     "output_type": "error",
     "traceback": [
      "An exception has occurred, use %tb to see the full traceback.\n",
      "\u001b[1;31mSystemExit\u001b[0m\u001b[1;31m:\u001b[0m 2\n"
     ]
    },
    {
     "name": "stderr",
     "output_type": "stream",
     "text": [
      "To exit: use 'exit', 'quit', or Ctrl-D.\n"
     ]
    }
   ],
   "source": [
    "import argparse\n",
    "\n",
    "def greetcli(args=None):\n",
    "    parser = argparse.ArgumentParser(prog='greeter')\n",
    "    parser.add_argument(\"name\", nargs='?')\n",
    "    parser.add_argument(\"--no-capitalize\", action=\"store_const\", const=True)\n",
    "\n",
    "    args = parser.parse_args(args=args)\n",
    "\n",
    "    print(greet(args.name, no_capitalize=args.no_capitalize))\n",
    "\n",
    "greetcli()"
   ]
  },
  {
   "cell_type": "markdown",
   "metadata": {
    "slideshow": {
     "slide_type": "-"
    }
   },
   "source": [
    "    $ python greet.py john "
   ]
  },
  {
   "cell_type": "code",
   "execution_count": 122,
   "metadata": {
    "classes": "noinput",
    "collapsed": false,
    "slideshow": {
     "slide_type": "-"
    }
   },
   "outputs": [
    {
     "name": "stdout",
     "output_type": "stream",
     "text": [
      "Hello John!\n"
     ]
    }
   ],
   "source": [
    "greetcli(['john'])"
   ]
  },
  {
   "cell_type": "markdown",
   "metadata": {},
   "source": [
    "    $ python greet.py dave --no-capitalize"
   ]
  },
  {
   "cell_type": "code",
   "execution_count": 123,
   "metadata": {
    "classes": "noinput",
    "collapsed": false
   },
   "outputs": [
    {
     "name": "stdout",
     "output_type": "stream",
     "text": [
      "Hello dave!\n"
     ]
    }
   ],
   "source": [
    "greetcli(['dave', '--no-capitalize'])"
   ]
  },
  {
   "cell_type": "markdown",
   "metadata": {
    "slideshow": {
     "slide_type": "notes"
    }
   },
   "source": [
    "What did ``greetcli`` do?"
   ]
  },
  {
   "cell_type": "markdown",
   "metadata": {
    "slideshow": {
     "slide_type": "subslide"
    }
   },
   "source": [
    "### What did ``greetcli`` do?"
   ]
  },
  {
   "cell_type": "markdown",
   "metadata": {
    "slideshow": {
     "slide_type": "-"
    }
   },
   "source": [
    "Positional argument ➡ Positional argument\n",
    "\n",
    "Named argument ➡ Named argument\n",
    "\n",
    "This is redundant!"
   ]
  },
  {
   "cell_type": "markdown",
   "metadata": {
    "slideshow": {
     "slide_type": "slide"
    }
   },
   "source": [
    "## Meet Clize"
   ]
  },
  {
   "cell_type": "code",
   "execution_count": 124,
   "metadata": {
    "classes": "nooutput",
    "collapsed": false
   },
   "outputs": [
    {
     "name": "stderr",
     "output_type": "stream",
     "text": [
      "/home/epsy/.local/lib/python3.4/site-packages/IPython/kernel/__main__.py: Unknown option '-f'\n",
      "Usage: /home/epsy/.local/lib/python3.4/site-packages/IPython/kernel/__main__.py [OPTIONS] [name]\n"
     ]
    },
    {
     "ename": "SystemExit",
     "evalue": "2",
     "output_type": "error",
     "traceback": [
      "An exception has occurred, use %tb to see the full traceback.\n",
      "\u001b[1;31mSystemExit\u001b[0m\u001b[1;31m:\u001b[0m 2\n"
     ]
    },
    {
     "name": "stderr",
     "output_type": "stream",
     "text": [
      "To exit: use 'exit', 'quit', or Ctrl-D.\n"
     ]
    }
   ],
   "source": [
    "from clize import run\n",
    "\n",
    "run(greet)"
   ]
  },
  {
   "cell_type": "code",
   "execution_count": 125,
   "metadata": {
    "collapsed": true,
    "slideshow": {
     "slide_type": "skip"
    }
   },
   "outputs": [],
   "source": [
    "from clize import run as orig_run\n",
    "\n",
    "def rrun(*args, **kwargs):\n",
    "    orig_run(*args, exit=False, **kwargs)\n",
    "\n",
    "def run(*args, **kwargs): pass"
   ]
  },
  {
   "cell_type": "markdown",
   "metadata": {
    "slideshow": {
     "slide_type": "-"
    }
   },
   "source": [
    "    $ python greeter.py"
   ]
  },
  {
   "cell_type": "code",
   "execution_count": 126,
   "metadata": {
    "classes": "noinput",
    "collapsed": false,
    "slideshow": {
     "slide_type": "-"
    }
   },
   "outputs": [
    {
     "name": "stdout",
     "output_type": "stream",
     "text": [
      "Hello world!\n"
     ]
    }
   ],
   "source": [
    "rrun(greet, args=['greeter.py'])"
   ]
  },
  {
   "cell_type": "markdown",
   "metadata": {
    "slideshow": {
     "slide_type": "-"
    }
   },
   "source": [
    "    $ python greeter.py john"
   ]
  },
  {
   "cell_type": "code",
   "execution_count": 127,
   "metadata": {
    "classes": "noinput",
    "collapsed": false
   },
   "outputs": [
    {
     "name": "stdout",
     "output_type": "stream",
     "text": [
      "Hello John!\n"
     ]
    }
   ],
   "source": [
    "rrun(greet, args=['greeter.py', 'john'])"
   ]
  },
  {
   "cell_type": "markdown",
   "metadata": {
    "slideshow": {
     "slide_type": "-"
    }
   },
   "source": [
    "    $ python greeter.py dave --no-capitalize"
   ]
  },
  {
   "cell_type": "code",
   "execution_count": 128,
   "metadata": {
    "classes": "noinput",
    "collapsed": false
   },
   "outputs": [
    {
     "name": "stdout",
     "output_type": "stream",
     "text": [
      "Hello dave!\n"
     ]
    }
   ],
   "source": [
    "rrun(greet, args=['greeter.py', 'dave', '--no-capitalize'])"
   ]
  },
  {
   "cell_type": "code",
   "execution_count": 129,
   "metadata": {
    "collapsed": false,
    "scrolled": true,
    "slideshow": {
     "slide_type": "subslide"
    }
   },
   "outputs": [],
   "source": [
    "def greet(name=None, *, no_capitalize=False):\n",
    "    \"\"\"Returns a greeting for a given person or the whole world.\n",
    "    \n",
    "    name: The name of the person to greet\n",
    "    \n",
    "    no_capitalize: Don't capitalize the given name\n",
    "    \"\"\"\n",
    "    if name is None:\n",
    "        return \"Hello world!\"\n",
    "    else:\n",
    "        if not no_capitalize:\n",
    "            name = name.title()\n",
    "        return \"Hello {}!\".format(name)"
   ]
  },
  {
   "cell_type": "markdown",
   "metadata": {},
   "source": [
    "    $ python greet.py --help"
   ]
  },
  {
   "cell_type": "code",
   "execution_count": 130,
   "metadata": {
    "classes": "noinput",
    "collapsed": false
   },
   "outputs": [
    {
     "name": "stdout",
     "output_type": "stream",
     "text": [
      "Usage: greet.py [OPTIONS] [name]\n",
      "\n",
      "Returns a greeting for a given person or the whole world.\n",
      "\n",
      "Arguments:\n",
      "  name              The name of the person to greet\n",
      "\n",
      "Options:\n",
      "  --no-capitalize   Don't capitalize the given name\n",
      "\n",
      "Other actions:\n",
      "  -h, --help        Show the help\n"
     ]
    }
   ],
   "source": [
    "rrun(greet, args=['greet.py', '--help'])"
   ]
  },
  {
   "cell_type": "markdown",
   "metadata": {
    "slideshow": {
     "slide_type": "slide"
    }
   },
   "source": [
    "## More simple things"
   ]
  },
  {
   "cell_type": "markdown",
   "metadata": {},
   "source": [
    "### Want an int? ➞ Let the default be an int!"
   ]
  },
  {
   "cell_type": "code",
   "execution_count": 131,
   "metadata": {
    "collapsed": true
   },
   "outputs": [],
   "source": [
    "def greet(name, *, repeat=1):\n",
    "    \"\"\"Returns a greeting for a given person.\n",
    "    \n",
    "    name: The name of the person to greet\n",
    "    \n",
    "    repeat: Greet the person this many times\n",
    "    \"\"\"\n",
    "    message = \"Hello {}!\".format(name.title())\n",
    "    return '\\n'.join(message for _ in range(repeat))"
   ]
  },
  {
   "cell_type": "markdown",
   "metadata": {
    "slideshow": {
     "slide_type": "-"
    }
   },
   "source": [
    "    $ python greet.py john --repeat 3"
   ]
  },
  {
   "cell_type": "code",
   "execution_count": 132,
   "metadata": {
    "classes": "noinput",
    "collapsed": false
   },
   "outputs": [
    {
     "name": "stdout",
     "output_type": "stream",
     "text": [
      "Hello John!\n",
      "Hello John!\n",
      "Hello John!\n"
     ]
    }
   ],
   "source": [
    "rrun(greet, args=['greet.py', 'john', '--repeat', '3'])"
   ]
  },
  {
   "cell_type": "markdown",
   "metadata": {
    "slideshow": {
     "slide_type": "subslide"
    }
   },
   "source": [
    "### Collect all positional ➞ Use ``*args``"
   ]
  },
  {
   "cell_type": "code",
   "execution_count": 133,
   "metadata": {
    "collapsed": true
   },
   "outputs": [],
   "source": [
    "def greet(*name):\n",
    "    \"\"\"Returns a greeting for a given person.\n",
    "    \n",
    "    name: The name of the person to greet\n",
    "    \n",
    "    repeat: Greet the person this many times\n",
    "    \"\"\"\n",
    "    return \"Hello {}!\".format(' '.join(name).title())"
   ]
  },
  {
   "cell_type": "markdown",
   "metadata": {
    "slideshow": {
     "slide_type": "-"
    }
   },
   "source": [
    "    $ python greet.py john doe"
   ]
  },
  {
   "cell_type": "code",
   "execution_count": 134,
   "metadata": {
    "classes": "noinput",
    "collapsed": false
   },
   "outputs": [
    {
     "name": "stdout",
     "output_type": "stream",
     "text": [
      "Hello John Doe!\n"
     ]
    }
   ],
   "source": [
    "rrun(greet, args=['greet.py', 'john', 'doe'])"
   ]
  },
  {
   "cell_type": "markdown",
   "metadata": {
    "slideshow": {
     "slide_type": "subslide"
    }
   },
   "source": [
    "### Want an alias for your option? ➞ Use an annotation"
   ]
  },
  {
   "cell_type": "code",
   "execution_count": 135,
   "metadata": {
    "collapsed": true
   },
   "outputs": [],
   "source": [
    "def greet(name=None, *, no_capitalize:'C'=False):\n",
    "    \"\"\"Returns a greeting for a given person or the whole world.\n",
    "    \n",
    "    name: The name of the person to greet\n",
    "    \n",
    "    no_capitalize: Don't capitalize the given name\n",
    "    \"\"\"\n",
    "    if name is None:\n",
    "        return \"Hello world!\"\n",
    "    else:\n",
    "        if not no_capitalize:\n",
    "            name = name.title()\n",
    "        return \"Hello {}!\".format(name)"
   ]
  },
  {
   "cell_type": "markdown",
   "metadata": {},
   "source": [
    "    $ python greet.py dave -C"
   ]
  },
  {
   "cell_type": "code",
   "execution_count": 136,
   "metadata": {
    "classes": "noinput",
    "collapsed": false
   },
   "outputs": [
    {
     "name": "stdout",
     "output_type": "stream",
     "text": [
      "Hello dave!\n"
     ]
    }
   ],
   "source": [
    "rrun(greet, args=['greet.py', 'dave', '-C'])"
   ]
  },
  {
   "cell_type": "code",
   "execution_count": 137,
   "metadata": {
    "collapsed": true,
    "slideshow": {
     "slide_type": "fragment"
    }
   },
   "outputs": [],
   "source": [
    "# Py2\n",
    "\n",
    "@modifiers.annotate(no_capitalize='C')\n",
    "@modifiers.kwoargs('no_capitalize')\n",
    "def greet(name=None, no_capitalize=False):\n",
    "    ..."
   ]
  },
  {
   "cell_type": "markdown",
   "metadata": {
    "slideshow": {
     "slide_type": "notes"
    }
   },
   "source": [
    "Also, many other uses of annotations, ex: adding parameters to parameters"
   ]
  },
  {
   "cell_type": "markdown",
   "metadata": {
    "slideshow": {
     "slide_type": "slide"
    }
   },
   "source": [
    "## I heard you like parameters..."
   ]
  },
  {
   "cell_type": "code",
   "execution_count": 138,
   "metadata": {
    "collapsed": true
   },
   "outputs": [],
   "source": [
    "from clize.parameters import argument_decorator\n",
    "\n",
    "@argument_decorator\n",
    "def name_argument(val, *, no_capitalize:'C'=False):\n",
    "    \"\"\"For each name:\n",
    "    \n",
    "    no_capitalize: Don't capitalize this name\"\"\"\n",
    "    if not no_capitalize:\n",
    "        return val.title()\n",
    "    return val"
   ]
  },
  {
   "cell_type": "code",
   "execution_count": 139,
   "metadata": {
    "collapsed": false,
    "slideshow": {
     "slide_type": "-"
    }
   },
   "outputs": [],
   "source": [
    "def greet(*names: name_argument):\n",
    "    \"\"\"Greets some people.\n",
    "    \n",
    "    names: The people to address\"\"\"\n",
    "    if not names:\n",
    "        return 'Hello world!'\n",
    "    greetings = []\n",
    "    for name in names:\n",
    "        greetings .append('Hello {}!'.format(name))\n",
    "    return '\\n'.join(greetings)\n",
    "\n",
    "run(greet)"
   ]
  },
  {
   "cell_type": "markdown",
   "metadata": {
    "slideshow": {
     "slide_type": "-"
    }
   },
   "source": [
    "    $ python greet.py john -C jane"
   ]
  },
  {
   "cell_type": "code",
   "execution_count": 140,
   "metadata": {
    "classes": "noinput",
    "collapsed": false
   },
   "outputs": [
    {
     "name": "stdout",
     "output_type": "stream",
     "text": [
      "Hello John!\n",
      "Hello jane!\n"
     ]
    }
   ],
   "source": [
    "rrun(greet, args=['greet.py', 'john', '-C', 'jane'])"
   ]
  },
  {
   "cell_type": "markdown",
   "metadata": {
    "slideshow": {
     "slide_type": "slide"
    }
   },
   "source": [
    "## Run multiple functions"
   ]
  },
  {
   "cell_type": "code",
   "execution_count": 141,
   "metadata": {
    "collapsed": true,
    "slideshow": {
     "slide_type": "skip"
    }
   },
   "outputs": [],
   "source": [
    "def part(name):\n",
    "    \"\"\"Wishes someone goodbye.\n",
    "    \n",
    "    name: The person to address\"\"\"\n",
    "    return \"Goodbye {}\".format(name)"
   ]
  },
  {
   "cell_type": "code",
   "execution_count": 142,
   "metadata": {
    "collapsed": false
   },
   "outputs": [],
   "source": [
    "run(greet, part)"
   ]
  },
  {
   "cell_type": "markdown",
   "metadata": {},
   "source": [
    "    $ python greet.py --help"
   ]
  },
  {
   "cell_type": "code",
   "execution_count": 143,
   "metadata": {
    "classes": "noinput",
    "collapsed": false
   },
   "outputs": [
    {
     "name": "stdout",
     "output_type": "stream",
     "text": [
      "Usage: greet.py command [args...]\n",
      "\n",
      "Commands:\n",
      "  greet   Greets some people.\n",
      "  part    Wishes someone goodbye.\n"
     ]
    }
   ],
   "source": [
    "rrun(greet, part, args=['greet.py', '--help'])"
   ]
  },
  {
   "cell_type": "markdown",
   "metadata": {
    "slideshow": {
     "slide_type": "notes"
    }
   },
   "source": [
    "Share features?"
   ]
  },
  {
   "cell_type": "markdown",
   "metadata": {
    "slideshow": {
     "slide_type": "subslide"
    }
   },
   "source": [
    "### Share features between commands"
   ]
  },
  {
   "cell_type": "code",
   "execution_count": 151,
   "metadata": {
    "collapsed": true
   },
   "outputs": [],
   "source": [
    "from sigtools.wrappers import wrapper_decorator\n",
    "\n",
    "@wrapper_decorator\n",
    "def message_func(wrapped, *args, repeat:'r'=1, **kwargs):\n",
    "    \"\"\"\n",
    "    repeat: Amount of times the message is repeated\n",
    "    \"\"\"\n",
    "    message = wrapped(*args, **kwargs)\n",
    "    return '\\n'.join(message for _ in range(repeat))\n",
    "\n",
    "@message_func\n",
    "def greet(*names: name_argument):\n",
    "    ...\n",
    "\n",
    "@message_func\n",
    "def part(*names: name_argument):\n",
    "    ..."
   ]
  },
  {
   "cell_type": "markdown",
   "metadata": {},
   "source": [
    "* ``wrapper_decorator`` makes it so that Clize can know ``*args`` and ``**kwargs`` refer to the decorated function\n",
    "\n",
    "\n",
    "    $ python greet.py greet -C -r 3 dave"
   ]
  },
  {
   "cell_type": "code",
   "execution_count": 153,
   "metadata": {
    "collapsed": true,
    "slideshow": {
     "slide_type": "skip"
    }
   },
   "outputs": [],
   "source": [
    "@message_func\n",
    "def greet(*names: name_argument):\n",
    "    \"\"\"Greets some people.\n",
    "    \n",
    "    names: The people to address\"\"\"\n",
    "    if not names:\n",
    "        return 'Hello world!'\n",
    "    greetings = []\n",
    "    for name in names:\n",
    "        greetings .append('Hello {}!'.format(name))\n",
    "    return '\\n'.join(greetings)\n",
    "\n",
    "@message_func\n",
    "def part(*names: name_argument):\n",
    "    \"\"\"Wishes some people goodbye.\n",
    "    \n",
    "    names: The people to address\"\"\"\n",
    "    if not names:\n",
    "        return 'Goodbye!'\n",
    "    greetings = []\n",
    "    for name in names:\n",
    "        greetings .append('Goodbye {}!'.format(name))\n",
    "    return '\\n'.join(greetings)"
   ]
  },
  {
   "cell_type": "code",
   "execution_count": 154,
   "metadata": {
    "classes": "noinput",
    "collapsed": false
   },
   "outputs": [
    {
     "name": "stdout",
     "output_type": "stream",
     "text": [
      "Hello John!\n",
      "Hello dave!\n",
      "Hello John!\n",
      "Hello dave!\n"
     ]
    }
   ],
   "source": [
    "rrun(greet, part, args=['greet.py', 'greet', '-r', '2', 'john', '-C', 'dave'])"
   ]
  },
  {
   "cell_type": "markdown",
   "metadata": {
    "slideshow": {
     "slide_type": "slide"
    }
   },
   "source": [
    "# ``pip install --user clize==3.0b1``\n",
    "\n",
    "https://clize.readthedocs.org/\n",
    "\n",
    "[Clize community on Google+](https://plus.google.com/communities/101146333300650079362)\n",
    "\n",
    "### Yann Kaiser\n",
    "\n",
    "[@YannKsr](https://twitter.com/YannKsr)\n",
    "\n",
    "[kaiser.yann@gmail.com](mailto:kaiser.yann@gmail.com)"
   ]
  },
  {
   "cell_type": "markdown",
   "metadata": {
    "slideshow": {
     "slide_type": "notes"
    }
   },
   "source": [
    "FAQ page  "
   ]
  }
 ],
 "metadata": {
  "celltoolbar": "Slideshow",
  "kernelspec": {
   "display_name": "Python 3",
   "language": "python",
   "name": "python3"
  },
  "language_info": {
   "codemirror_mode": {
    "name": "ipython",
    "version": 3
   },
   "file_extension": ".py",
   "mimetype": "text/x-python",
   "name": "python",
   "nbconvert_exporter": "python",
   "pygments_lexer": "ipython3",
   "version": "3.4.0"
  }
 },
 "nbformat": 4,
 "nbformat_minor": 0
}
